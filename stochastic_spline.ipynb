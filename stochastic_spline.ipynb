{
 "cells": [
  {
   "cell_type": "code",
   "execution_count": 20,
   "id": "2d3d012d-5872-4c69-907a-d8ddff039d78",
   "metadata": {},
   "outputs": [],
   "source": [
    "import matplotlib.pyplot as plt\n",
    "from matplotlib import animation\n",
    "import numpy as np\n",
    "import scipy\n",
    "import time"
   ]
  },
  {
   "cell_type": "code",
   "execution_count": 21,
   "id": "8b25b56e-6ac8-4856-811c-f082b702d157",
   "metadata": {},
   "outputs": [
    {
     "data": {
      "text/plain": [
       "array([ 0,  0,  0,  1,  2,  3,  4,  5,  6,  7,  8,  9, 10, 10, 10])"
      ]
     },
     "execution_count": 21,
     "metadata": {},
     "output_type": "execute_result"
    }
   ],
   "source": [
    "knots = np.array([0]*2 + list(np.arange(0,10)) + [10]*3)\n",
    "knots"
   ]
  },
  {
   "cell_type": "code",
   "execution_count": 22,
   "id": "02b1bb59-0eaf-477b-96d0-11155fa733af",
   "metadata": {},
   "outputs": [],
   "source": [
    "splines = []\n",
    "for i in range(0,13):\n",
    "    coeffs = np.zeros(13)\n",
    "    coeffs[i] = 1.0\n",
    "    spline = scipy.interpolate.BSpline(knots,coeffs, 3)\n",
    "    splines.append(spline)"
   ]
  },
  {
   "cell_type": "code",
   "execution_count": 23,
   "id": "88a485eb-9faa-40bf-8acf-2673ca2ee6a9",
   "metadata": {},
   "outputs": [],
   "source": [
    "coeffs = np.zeros(13)\n",
    "bins = np.zeros(11)\n",
    "n = 0\n",
    "def score_data(x):\n",
    "    global coeffs, bins, n\n",
    "    n += 1\n",
    "    bins[int(np.floor(x))] += 1\n",
    "    for i,spline in enumerate(splines):\n",
    "        inner_product = 1.0 * scipy.interpolate.splev(x, spline)\n",
    "        if inner_product> 0:\n",
    "            coeffs[i] += inner_product"
   ]
  },
  {
   "cell_type": "code",
   "execution_count": 24,
   "id": "c14c55d9-8119-41a7-b794-c837a27df150",
   "metadata": {},
   "outputs": [],
   "source": [
    "def plot(coeffs, bins, n):\n",
    "    fig, ax = plt.subplots()\n",
    "    histos = ax.bar(np.arange(0,11),bins/n)\n",
    "    spline = scipy.interpolate.BSpline(knots, coeffs/n, 3)\n",
    "    x = np.linspace(0,10,100)\n",
    "    y = scipy.interpolate.splev(x, spline)\n",
    "    spline_line = ax.plot(x,y,\"k-\")[0]\n",
    "    plt.title(f\"n={n}\")\n",
    "    plt.xlim(0,10)\n",
    "    plt.ylim(0,1)\n",
    "    plt.show()\n",
    "    return (fig, ax, histos, spline_line)\n",
    "\n",
    "def score_and_plot(frame, ax, histos, spline_line):\n",
    "    while True:\n",
    "        x = np.random.normal(5.0, 1.0, 1)\n",
    "        if x >=0 and x < 10:\n",
    "            break\n",
    "    score_data(x)\n",
    "    for value, bar in zip(bins/n, histos):\n",
    "        bar.set_height(value)\n",
    "    spline = scipy.interpolate.BSpline(knots, coeffs/n, 3)\n",
    "    x = np.linspace(0,10,100)\n",
    "    y = scipy.interpolate.splev(x, spline)\n",
    "    spline_line.set_ydata(y)\n",
    "    ax.set_title(f\"n={n}\")\n",
    "    return (histo, spline_line)\n",
    "    \n",
    "    \n",
    "    "
   ]
  },
  {
   "cell_type": "code",
   "execution_count": 25,
   "id": "0e5675aa-88a3-4851-bae7-4afa519f260a",
   "metadata": {},
   "outputs": [
    {
     "name": "stderr",
     "output_type": "stream",
     "text": [
      "/tmp/ipykernel_5173/437975591.py:7: DeprecationWarning: Conversion of an array with ndim > 0 to a scalar is deprecated, and will error in future. Ensure you extract a single element from your array before performing this operation. (Deprecated NumPy 1.25.)\n",
      "  bins[int(np.floor(x))] += 1\n",
      "/tmp/ipykernel_5173/437975591.py:11: DeprecationWarning: Conversion of an array with ndim > 0 to a scalar is deprecated, and will error in future. Ensure you extract a single element from your array before performing this operation. (Deprecated NumPy 1.25.)\n",
      "  coeffs[i] += inner_product\n"
     ]
    },
    {
     "data": {
      "image/png": "[encoded data removed]",
      "text/plain": [
       "<Figure size 640x480 with 1 Axes>"
      ]
     },
     "metadata": {},
     "output_type": "display_data"
    },
    {
     "name": "stderr",
     "output_type": "stream",
     "text": [
      "/tmp/ipykernel_5173/437975591.py:7: DeprecationWarning: Conversion of an array with ndim > 0 to a scalar is deprecated, and will error in future. Ensure you extract a single element from your array before performing this operation. (Deprecated NumPy 1.25.)\n",
      "  bins[int(np.floor(x))] += 1\n",
      "/tmp/ipykernel_5173/437975591.py:11: DeprecationWarning: Conversion of an array with ndim > 0 to a scalar is deprecated, and will error in future. Ensure you extract a single element from your array before performing this operation. (Deprecated NumPy 1.25.)\n",
      "  coeffs[i] += inner_product\n"
     ]
    }
   ],
   "source": [
    "while True:\n",
    "    x = np.random.normal(5.0, 1.0, 1)\n",
    "    if x >= 0 or x < 10:\n",
    "        break\n",
    "score_data(x)\n",
    "fig, ax, histo, spline_line = plot(coeffs, bins, n)\n",
    "ani = animation.FuncAnimation(fig=fig, func=score_and_plot, frames=100, fargs=(ax, histo, spline_line), interval=300)\n",
    "ani.save(\"stochastic_update.gif\")"
   ]
  },
  {
   "cell_type": "code",
   "execution_count": null,
   "id": "246ddb62-02a7-4cb8-8d8b-b7d19f1f87a8",
   "metadata": {},
   "outputs": [],
   "source": []
  },
  {
   "cell_type": "code",
   "execution_count": null,
   "id": "65b23ce4-4ecf-4cfd-b25c-ae3366f60551",
   "metadata": {},
   "outputs": [],
   "source": []
  }
 ],
 "metadata": {
  "kernelspec": {
   "display_name": "Python 3 (ipykernel)",
   "language": "python",
   "name": "python3"
  },
  "language_info": {
   "codemirror_mode": {
    "name": "ipython",
    "version": 3
   },
   "file_extension": ".py",
   "mimetype": "text/x-python",
   "name": "python",
   "nbconvert_exporter": "python",
   "pygments_lexer": "ipython3",
   "version": "3.10.12"
  }
 },
 "nbformat": 4,
 "nbformat_minor": 5
}
