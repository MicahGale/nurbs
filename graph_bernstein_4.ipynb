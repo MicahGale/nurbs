{
 "cells": [
  {
   "cell_type": "code",
   "execution_count": null,
   "id": "fbdabeed-e072-4b61-9360-1c8dee3a5d04",
   "metadata": {},
   "outputs": [],
   "source": [
    "from labellines import labelLines\n",
    "\n",
    "import matplotlib\n",
    "import matplotlib.pyplot as plt\n",
    "import numpy as np\n",
    "import regression\n",
    "\n",
    "matplotlib.rc(\"font\", size=16)\n",
    "plt.style.use(\"tableau-colorblind10\")"
   ]
  },
  {
   "cell_type": "code",
   "execution_count": null,
   "id": "2b9d58df-7cd8-4273-a8a6-0284f73f1341",
   "metadata": {},
   "outputs": [],
   "source": [
    "ortho_rgr = regression.regressor.OrthoBezierRegressor(0,1,4)\n",
    "rgr = regression.regressor.BezierRegressor(0,1,4)\n",
    "fig, (ax1, ax2) = plt.subplots(1,2)\n",
    "rgr.plot_bases(ax1)\n",
    "ortho_rgr.plot_bases(ax2)\n",
    "labelLines(ax1.get_lines(), align=False)\n",
    "labelLines(ax2.get_lines(), align=False)\n",
    "ax2.plot([0,1],[0]*2, \"--\", color=(0,0,0,0.4))\n",
    "ax1.set_title(\"Nonorthogonal\")\n",
    "ax2.set_title(\"Orthogonal\")\n",
    "for ext in {\"svg\", \"png\", \"pdf\"}:\n",
    "    plt.savefig(f\"bernstein_basis.{ext}\")"
   ]
  },
  {
   "cell_type": "code",
   "execution_count": null,
   "id": "4e560de9-6732-45c7-83a3-3fdf12969498",
   "metadata": {},
   "outputs": [],
   "source": [
    "def normal(x, mu, sigma):\n",
    "    return (\n",
    "        1 / (np.sqrt(2 * np.pi * sigma**2)) * np.exp(-((x - mu) ** 2) / (2 * sigma**2))\n",
    "    )\n",
    "norm = lambda x: normal(x, 5, 1)\n",
    "ortho_rgr = regression.regressor.OrthoBezierRegressor(0,10,4)\n",
    "rgr = regression.regressor.BezierRegressor(0,10,4)\n",
    "rgr.analytic_inner_prod(norm)\n",
    "ortho_rgr.analytic_inner_prod(norm)\n",
    "fig, (ax1, ax2) = plt.subplots(1,2,figsize=(16,9))\n",
    "rgr.plot_basis_contrib(np.linspace(0,10, 1_000), ax1)\n",
    "ortho_rgr.plot_basis_contrib(np.linspace(0,10, 1_000), ax2)\n",
    "\n",
    "ax1.set_title(\"Nonorthogonal\")\n",
    "ax2.set_title(\"Orthogonal\")\n",
    "labelLines(ax2.get_lines(), align=False)\n",
    "labelLines(ax1.get_lines(), align=False)\n",
    "for ext in {\"svg\", \"png\", \"pdf\"}:\n",
    "    plt.savefig(f\"bernstein_basis_expansion.{ext}\")"
   ]
  },
  {
   "cell_type": "code",
   "execution_count": null,
   "id": "4f680fcf-3772-4d3f-bd5c-8da1450f5d25",
   "metadata": {},
   "outputs": [],
   "source": []
  }
 ],
 "metadata": {
  "kernelspec": {
   "display_name": "Python 3 (ipykernel)",
   "language": "python",
   "name": "python3"
  },
  "language_info": {
   "codemirror_mode": {
    "name": "ipython",
    "version": 3
   },
   "file_extension": ".py",
   "mimetype": "text/x-python",
   "name": "python",
   "nbconvert_exporter": "python",
   "pygments_lexer": "ipython3",
   "version": "3.12.7"
  }
 },
 "nbformat": 4,
 "nbformat_minor": 5
}
