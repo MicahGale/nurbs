{
 "cells": [
  {
   "cell_type": "code",
   "execution_count": null,
   "id": "2d3d012d-5872-4c69-907a-d8ddff039d78",
   "metadata": {},
   "outputs": [],
   "source": [
    "import matplotlib.pyplot as plt\n",
    "from matplotlib import animation\n",
    "import numpy as np\n",
    "from regression import regressor\n",
    "import scipy\n",
    "import time"
   ]
  },
  {
   "cell_type": "code",
   "execution_count": null,
   "id": "bed9f37c-92ec-4ca9-8208-a602271ffc10",
   "metadata": {},
   "outputs": [],
   "source": [
    "def normal(x, mu, sigma):\n",
    "    return 1/(np.sqrt(2*np.pi*sigma**2))*np.exp(-(x-mu)**2/(2*sigma**2))"
   ]
  },
  {
   "cell_type": "code",
   "execution_count": null,
   "id": "1a6e8ebd-684b-419d-af06-18515c38d2d3",
   "metadata": {},
   "outputs": [],
   "source": [
    "min = 0.0\n",
    "max = 10.0\n",
    "bins = 10\n",
    "histo = regressor.HistogramRegressor(min, max, bins)\n",
    "spline = regressor.SplineRegressor(min, max, bins, 3)"
   ]
  },
  {
   "cell_type": "code",
   "execution_count": null,
   "id": "0e5675aa-88a3-4851-bae7-4afa519f260a",
   "metadata": {},
   "outputs": [],
   "source": [
    "mu = 5.0\n",
    "sigma = 1.0\n",
    "for i in range(100):\n",
    "    x = np.random.uniform(mu, sigma)\n",
    "    if x < min or x > max:\n",
    "        continue\n",
    "    for regressor in [histo, spline]:\n",
    "        regressor.score(x)"
   ]
  },
  {
   "cell_type": "code",
   "execution_count": null,
   "id": "246ddb62-02a7-4cb8-8d8b-b7d19f1f87a8",
   "metadata": {},
   "outputs": [],
   "source": [
    "spline.normalize()"
   ]
  },
  {
   "cell_type": "code",
   "execution_count": null,
   "id": "65b23ce4-4ecf-4cfd-b25c-ae3366f60551",
   "metadata": {},
   "outputs": [],
   "source": []
  }
 ],
 "metadata": {
  "kernelspec": {
   "display_name": "Python 3 (ipykernel)",
   "language": "python",
   "name": "python3"
  },
  "language_info": {
   "codemirror_mode": {
    "name": "ipython",
    "version": 3
   },
   "file_extension": ".py",
   "mimetype": "text/x-python",
   "name": "python",
   "nbconvert_exporter": "python",
   "pygments_lexer": "ipython3",
   "version": "3.10.12"
  }
 },
 "nbformat": 4,
 "nbformat_minor": 5
}
