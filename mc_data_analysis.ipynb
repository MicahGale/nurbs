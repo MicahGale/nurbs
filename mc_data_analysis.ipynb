{
 "cells": [
  {
   "cell_type": "code",
   "execution_count": null,
   "id": "5a48cb9a-fd9b-4ec7-8302-0a4b3ed46ca0",
   "metadata": {},
   "outputs": [],
   "source": [
    "from labellines import labelLines\n",
    "import matplotlib\n",
    "import matplotlib.patches as mpatches\n",
    "import matplotlib.pyplot as plt\n",
    "import numpy as np\n",
    "import pandas as pd\n",
    "from scipy.optimize import curve_fit\n",
    "\n",
    "matplotlib.rc(\"font\", size=16)\n",
    "plt.style.use(\"tableau-colorblind10\")"
   ]
  },
  {
   "cell_type": "code",
   "execution_count": null,
   "id": "fb78361b-d919-4101-9ffe-bf27dac6dd3a",
   "metadata": {},
   "outputs": [],
   "source": [
    "df = pd.read_excel(\"rmse_data.xlsx\", index_col=0)\n",
    "n_samples = df.samples.unique()\n",
    "ortho_data = []\n",
    "non_ortho_means = []\n",
    "non_ortho_stds = []\n",
    "non_ortho_data = []\n",
    "histo_means = []\n",
    "histo_std = []\n",
    "legendre_means = []\n",
    "legendre_std = []\n",
    "for samples in n_samples:\n",
    "    slice_df = df[df.samples == samples]\n",
    "    ortho_data.append(slice_df.ortho)\n",
    "    non_ortho_means.append(slice_df.non_ortho.mean())\n",
    "    non_ortho_stds.append(slice_df.non_ortho.std())\n",
    "    non_ortho_data.append(slice_df.non_ortho)\n",
    "    histo_means.append(slice_df.histogram.mean())\n",
    "    histo_std.append(slice_df.histogram.std())\n",
    "    legendre_means.append(slice_df.legendre.mean())\n",
    "    legendre_std.append(slice_df.legendre.std())"
   ]
  },
  {
   "cell_type": "code",
   "execution_count": null,
   "id": "13299ccd-7ad7-4044-8155-a9d2c481cd08",
   "metadata": {},
   "outputs": [],
   "source": [
    "O_14_LIMIT = 0.07651166303158025\n",
    "\n",
    "# from SO\n",
    "labels = []\n",
    "def add_label(violin, label):\n",
    "    if isinstance(violin, dict):\n",
    "        color = violin[\"bodies\"][0].get_facecolor().flatten()\n",
    "    else:\n",
    "        color = violin[0].get_color()\n",
    "\n",
    "    labels.append((mpatches.Patch(color=color), label))\n",
    "plt.figure(figsize=(16,9))\n",
    "\n",
    "add_label(plt.violinplot(non_ortho_data, n_samples, showextrema=False, widths = [0.5 * samples for samples in n_samples]), label=\"Nonorthogonal Bernstein bases\")\n",
    "plt.errorbar(n_samples, non_ortho_means, yerr=non_ortho_stds, fmt=\"o-\", color=\"#006BA4\", capsize=5)\n",
    "add_label(plt.violinplot(ortho_data[0:1], n_samples[0:1]*1.1, showmeans=True, widths=[5]), \"Orthogonal Bernstein bases\")\n",
    "plt.errorbar(n_samples, histo_means, yerr=histo_std, fmt=\"v-\", label=\"histograms\", capsize=5)\n",
    "plt.errorbar(n_samples, legendre_means, yerr=legendre_std, fmt=\"^-\", color=\"#C85200\", label=\"Legendre\", capsize=5)\n",
    "\n",
    "def power_law(x, a, b):\n",
    "    return a*x + b\n",
    "\n",
    "sub_slice = slice(4, -5)\n",
    "for name, (xdata, ydata) in {\"full data set\": (n_samples, non_ortho_means), \"truncated dataset\": (n_samples[sub_slice], non_ortho_means[sub_slice])}.items():\n",
    "    #regression\n",
    "    params, _ = curve_fit(power_law, np.log(xdata), np.log(ydata))\n",
    "    a, b = params\n",
    "    bound = lambda x: power_law(x, *params)\n",
    "    \n",
    "    residuals = np.log(ydata) - bound(np.log(xdata))\n",
    "    ss_res = np.sum(residuals**2)\n",
    "    ss_tot = np.sum((np.log(ydata) - np.mean(np.log(ydata)))**2)\n",
    "    r_sq = 1 - ss_res / ss_tot\n",
    "    \n",
    "    print(f\"{name}: $y={np.exp(b):.4f}x^{{{a:.5f}}}$, $R^2={{{r_sq:.4f}}}$\")\n",
    "\n",
    "plt.plot(plt.xlim(),[O_14_LIMIT]*2,  \"k--\", label=\"Truncation Error Limit\")\n",
    "plt.plot(n_samples, 1/np.sqrt(n_samples) * 12, \"k:\", label=r\"$\\frac{1}{\\sqrt{n}}$\")\n",
    "labelLines(plt.gca().get_lines(), xvals=[100]+[1e3]*2 + [5e4])\n",
    "plt.legend(*zip(*labels))\n",
    "plt.gca().set_yscale('log')\n",
    "plt.gca().set_xscale('log')\n",
    "plt.xlabel(\"Number of Samples\")\n",
    "plt.ylabel(\"RMSE [%]\")\n",
    "#plt.ylim((0.05, 20))\n",
    "for ext in {\"pdf\", \"png\", \"svg\"}:\n",
    "    plt.savefig(f\"samples.{ext}\")"
   ]
  },
  {
   "cell_type": "code",
   "execution_count": null,
   "id": "d61160c3-b924-4513-98b3-3cf95b97d8cb",
   "metadata": {},
   "outputs": [],
   "source": []
  }
 ],
 "metadata": {
  "kernelspec": {
   "display_name": "Python 3 (ipykernel)",
   "language": "python",
   "name": "python3"
  },
  "language_info": {
   "codemirror_mode": {
    "name": "ipython",
    "version": 3
   },
   "file_extension": ".py",
   "mimetype": "text/x-python",
   "name": "python",
   "nbconvert_exporter": "python",
   "pygments_lexer": "ipython3",
   "version": "3.12.7"
  }
 },
 "nbformat": 4,
 "nbformat_minor": 5
}
